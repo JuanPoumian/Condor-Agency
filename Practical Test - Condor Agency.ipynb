{
 "cells": [
  {
   "cell_type": "code",
   "execution_count": 37,
   "id": "07b2bb75",
   "metadata": {},
   "outputs": [],
   "source": [
    "def generate_phone_number(vector):\n",
    "  \"\"\"\n",
    "  Generates a random Venezuelan mobile phone number from the given vector.\n",
    "\n",
    "  Args:\n",
    "    vector: An integer vector of length 11.\n",
    "\n",
    "  Returns:\n",
    "    A string representing the generated phone number.\n",
    "  \"\"\"\n",
    "\n",
    "  # Check that the vector is valid.\n",
    "  if len(vector) != 11:\n",
    "    raise ValueError(\"The vector must be of length 11.\")\n",
    "\n",
    "  # Check that the vector contains all of the required digits.\n",
    "  required_digits = [0, 2, 3, 4, 8, 9]\n",
    "  for digit in required_digits:\n",
    "    if digit not in vector:\n",
    "      raise ValueError(\"The vector must contain all of the required digits.\")\n",
    "\n",
    "  # Place all of the 8s next to each other.\n",
    "  s = \"\"\n",
    "  for i in range(len(vector)):\n",
    "    if vector[i] == 8:\n",
    "      s += \"8\"\n",
    "    else:\n",
    "      s += str(vector[i])\n",
    "\n",
    "  # Separate all of the 9s by a unique number.\n",
    "  unique_digit = str(random.choice(list(set(vector) - {8, 9})))\n",
    "  for i in range(len(vector)):\n",
    "    if vector[i] == 9:\n",
    "      s += unique_digit\n",
    "      s += str(vector[i])\n",
    "\n",
    "  # Place the two numbers that appear twice each next to each other, separated by at least one 8.\n",
    "  two_digits = [digit for digit in vector if vector.count(digit) == 2]\n",
    "  for i in range(len(two_digits)):\n",
    "    s += str(two_digits[i])\n",
    "    s += \"8\"\n",
    "    s += str(two_digits[i])\n",
    "\n",
    "  # Surround all of the 3s by the same number.\n",
    "  surrounding_digit = str(random.choice(list(set(vector) - {8, 9, 3})))\n",
    "  for i in range(len(vector)):\n",
    "    if vector[i] == 3:\n",
    "      s += surrounding_digit\n",
    "      s += str(vector[i])\n",
    "      s += surrounding_digit\n",
    "\n",
    "  # Make sure that the numbers in positions 5, 6, and 7 are divisible by the same number.\n",
    "  for i in range(5, 8):\n",
    "    s += str(int(random.choice([digit for digit in vector if digit % int(s[i - 1]) == 0])))\n",
    "\n",
    "  # Make sure that the number in the second last place is divisible by the one in the last place.\n",
    "  s += str(int(random.choice([digit for digit in vector if digit % int(s[-1]) == 0])))\n",
    "  s += str(s[-1])\n",
    "\n",
    "  return s\n"
   ]
  },
  {
   "cell_type": "code",
   "execution_count": 38,
   "id": "27c34ced",
   "metadata": {},
   "outputs": [
    {
     "name": "stdout",
     "output_type": "stream",
     "text": [
      "00223448899090908008028228248448488888898998923200888\n"
     ]
    }
   ],
   "source": [
    "vector = [0, 0, 2, 2, 3, 4, 4, 8, 8, 9, 9]\n",
    "\n",
    "phone_number = generate_phone_number(vector)\n",
    "\n",
    "print(phone_number)"
   ]
  }
 ],
 "metadata": {
  "kernelspec": {
   "display_name": "Python 3 (ipykernel)",
   "language": "python",
   "name": "python3"
  },
  "language_info": {
   "codemirror_mode": {
    "name": "ipython",
    "version": 3
   },
   "file_extension": ".py",
   "mimetype": "text/x-python",
   "name": "python",
   "nbconvert_exporter": "python",
   "pygments_lexer": "ipython3",
   "version": "3.9.12"
  }
 },
 "nbformat": 4,
 "nbformat_minor": 5
}
